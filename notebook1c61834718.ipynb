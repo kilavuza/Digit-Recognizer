{
 "cells": [
  {
   "cell_type": "code",
   "execution_count": 1,
   "id": "b4248df9",
   "metadata": {
    "_cell_guid": "b1076dfc-b9ad-4769-8c92-a6c4dae69d19",
    "_uuid": "8f2839f25d086af736a60e9eeb907d3b93b6e0e5",
    "execution": {
     "iopub.execute_input": "2024-03-27T19:20:46.418194Z",
     "iopub.status.busy": "2024-03-27T19:20:46.417787Z",
     "iopub.status.idle": "2024-03-27T19:20:47.563408Z",
     "shell.execute_reply": "2024-03-27T19:20:47.561971Z"
    },
    "papermill": {
     "duration": 1.155911,
     "end_time": "2024-03-27T19:20:47.566139",
     "exception": false,
     "start_time": "2024-03-27T19:20:46.410228",
     "status": "completed"
    },
    "tags": []
   },
   "outputs": [
    {
     "name": "stdout",
     "output_type": "stream",
     "text": [
      "/kaggle/input/digit-recognizer/sample_submission.csv\n",
      "/kaggle/input/digit-recognizer/train.csv\n",
      "/kaggle/input/digit-recognizer/test.csv\n"
     ]
    }
   ],
   "source": [
    "# This Python 3 environment comes with many helpful analytics libraries installed\n",
    "# It is defined by the kaggle/python Docker image: https://github.com/kaggle/docker-python\n",
    "# For example, here's several helpful packages to load\n",
    "\n",
    "import numpy as np # linear algebra\n",
    "import pandas as pd # data processing, CSV file I/O (e.g. pd.read_csv)\n",
    "\n",
    "# Input data files are available in the read-only \"../input/\" directory\n",
    "# For example, running this (by clicking run or pressing Shift+Enter) will list all files under the input directory\n",
    "\n",
    "import os\n",
    "for dirname, _, filenames in os.walk('/kaggle/input'):\n",
    "    for filename in filenames:\n",
    "        print(os.path.join(dirname, filename))\n",
    "\n",
    "# You can write up to 20GB to the current directory (/kaggle/working/) that gets preserved as output when you create a version using \"Save & Run All\" \n",
    "# You can also write temporary files to /kaggle/temp/, but they won't be saved outside of the current session"
   ]
  },
  {
   "cell_type": "code",
   "execution_count": 2,
   "id": "827f08bb",
   "metadata": {
    "execution": {
     "iopub.execute_input": "2024-03-27T19:20:47.579554Z",
     "iopub.status.busy": "2024-03-27T19:20:47.578890Z",
     "iopub.status.idle": "2024-03-27T19:21:05.107370Z",
     "shell.execute_reply": "2024-03-27T19:21:05.106177Z"
    },
    "papermill": {
     "duration": 17.538155,
     "end_time": "2024-03-27T19:21:05.110270",
     "exception": false,
     "start_time": "2024-03-27T19:20:47.572115",
     "status": "completed"
    },
    "tags": []
   },
   "outputs": [
    {
     "name": "stderr",
     "output_type": "stream",
     "text": [
      "2024-03-27 19:20:50.179091: E external/local_xla/xla/stream_executor/cuda/cuda_dnn.cc:9261] Unable to register cuDNN factory: Attempting to register factory for plugin cuDNN when one has already been registered\n",
      "2024-03-27 19:20:50.179226: E external/local_xla/xla/stream_executor/cuda/cuda_fft.cc:607] Unable to register cuFFT factory: Attempting to register factory for plugin cuFFT when one has already been registered\n",
      "2024-03-27 19:20:50.373899: E external/local_xla/xla/stream_executor/cuda/cuda_blas.cc:1515] Unable to register cuBLAS factory: Attempting to register factory for plugin cuBLAS when one has already been registered\n"
     ]
    }
   ],
   "source": [
    "\n",
    "import tensorflow as tf\n",
    "from sklearn.model_selection import train_test_split\n",
    "from tensorflow.keras.preprocessing.image import ImageDataGenerator  # Import ImageDataGenerator\n",
    "\n",
    "from tensorflow.keras.callbacks import LearningRateScheduler"
   ]
  },
  {
   "cell_type": "code",
   "execution_count": 3,
   "id": "0a607cf2",
   "metadata": {
    "execution": {
     "iopub.execute_input": "2024-03-27T19:21:05.123815Z",
     "iopub.status.busy": "2024-03-27T19:21:05.123082Z",
     "iopub.status.idle": "2024-03-27T19:21:12.300064Z",
     "shell.execute_reply": "2024-03-27T19:21:12.298613Z"
    },
    "papermill": {
     "duration": 7.187026,
     "end_time": "2024-03-27T19:21:12.303027",
     "exception": false,
     "start_time": "2024-03-27T19:21:05.116001",
     "status": "completed"
    },
    "tags": []
   },
   "outputs": [
    {
     "name": "stdout",
     "output_type": "stream",
     "text": [
      "<class 'pandas.core.frame.DataFrame'>\n",
      "RangeIndex: 42000 entries, 0 to 41999\n",
      "Columns: 785 entries, label to pixel783\n",
      "dtypes: int64(785)\n",
      "memory usage: 251.5 MB\n"
     ]
    }
   ],
   "source": [
    "train_data = pd.read_csv('/kaggle/input/digit-recognizer/train.csv')\n",
    "test_data = pd.read_csv('/kaggle/input/digit-recognizer/test.csv')\n",
    "train_data.info()"
   ]
  },
  {
   "cell_type": "code",
   "execution_count": 4,
   "id": "41dc9b3e",
   "metadata": {
    "execution": {
     "iopub.execute_input": "2024-03-27T19:21:12.316890Z",
     "iopub.status.busy": "2024-03-27T19:21:12.316467Z",
     "iopub.status.idle": "2024-03-27T19:21:12.450246Z",
     "shell.execute_reply": "2024-03-27T19:21:12.448678Z"
    },
    "papermill": {
     "duration": 0.14442,
     "end_time": "2024-03-27T19:21:12.453385",
     "exception": false,
     "start_time": "2024-03-27T19:21:12.308965",
     "status": "completed"
    },
    "tags": []
   },
   "outputs": [],
   "source": [
    "X_train = train_data.drop(columns=['label']).values\n",
    "y_train = train_data['label'].values"
   ]
  },
  {
   "cell_type": "code",
   "execution_count": 5,
   "id": "86e2b475",
   "metadata": {
    "execution": {
     "iopub.execute_input": "2024-03-27T19:21:12.467035Z",
     "iopub.status.busy": "2024-03-27T19:21:12.466137Z",
     "iopub.status.idle": "2024-03-27T19:21:12.703256Z",
     "shell.execute_reply": "2024-03-27T19:21:12.701370Z"
    },
    "papermill": {
     "duration": 0.247261,
     "end_time": "2024-03-27T19:21:12.706400",
     "exception": false,
     "start_time": "2024-03-27T19:21:12.459139",
     "status": "completed"
    },
    "tags": []
   },
   "outputs": [],
   "source": [
    "X_train = X_train.reshape(-1, 28, 28, 1) / 255.0\n",
    "X_test = test_data.values.reshape(-1, 28, 28, 1) / 255.0\n"
   ]
  },
  {
   "cell_type": "code",
   "execution_count": 6,
   "id": "c5d11fe3",
   "metadata": {
    "execution": {
     "iopub.execute_input": "2024-03-27T19:21:12.719675Z",
     "iopub.status.busy": "2024-03-27T19:21:12.719229Z",
     "iopub.status.idle": "2024-03-27T19:21:13.175796Z",
     "shell.execute_reply": "2024-03-27T19:21:13.174627Z"
    },
    "papermill": {
     "duration": 0.466231,
     "end_time": "2024-03-27T19:21:13.178375",
     "exception": false,
     "start_time": "2024-03-27T19:21:12.712144",
     "status": "completed"
    },
    "tags": []
   },
   "outputs": [],
   "source": [
    "X_train, X_val, y_train, y_val = train_test_split(X_train, y_train, test_size=0.1, random_state=42)"
   ]
  },
  {
   "cell_type": "code",
   "execution_count": 7,
   "id": "6e7967a8",
   "metadata": {
    "execution": {
     "iopub.execute_input": "2024-03-27T19:21:13.192345Z",
     "iopub.status.busy": "2024-03-27T19:21:13.191956Z",
     "iopub.status.idle": "2024-03-27T19:21:13.292975Z",
     "shell.execute_reply": "2024-03-27T19:21:13.291604Z"
    },
    "papermill": {
     "duration": 0.111397,
     "end_time": "2024-03-27T19:21:13.295888",
     "exception": false,
     "start_time": "2024-03-27T19:21:13.184491",
     "status": "completed"
    },
    "tags": []
   },
   "outputs": [],
   "source": [
    "datagen = ImageDataGenerator(\n",
    "    rotation_range=10,\n",
    "    zoom_range=0.1,\n",
    "    width_shift_range=0.1,\n",
    "    height_shift_range=0.1\n",
    ")\n",
    "datagen.fit(X_train)"
   ]
  },
  {
   "cell_type": "code",
   "execution_count": 8,
   "id": "8e615841",
   "metadata": {
    "execution": {
     "iopub.execute_input": "2024-03-27T19:21:13.309396Z",
     "iopub.status.busy": "2024-03-27T19:21:13.308991Z",
     "iopub.status.idle": "2024-03-27T19:21:13.452314Z",
     "shell.execute_reply": "2024-03-27T19:21:13.451041Z"
    },
    "papermill": {
     "duration": 0.153273,
     "end_time": "2024-03-27T19:21:13.455091",
     "exception": false,
     "start_time": "2024-03-27T19:21:13.301818",
     "status": "completed"
    },
    "tags": []
   },
   "outputs": [
    {
     "name": "stderr",
     "output_type": "stream",
     "text": [
      "/opt/conda/lib/python3.10/site-packages/keras/src/layers/convolutional/base_conv.py:99: UserWarning: Do not pass an `input_shape`/`input_dim` argument to a layer. When using Sequential models, prefer using an `Input(shape)` object as the first layer in the model instead.\n",
      "  super().__init__(\n"
     ]
    }
   ],
   "source": [
    "model = tf.keras.models.Sequential([\n",
    "    tf.keras.layers.Conv2D(32, (3, 3), activation='relu', input_shape=(28, 28, 1)),\n",
    "    tf.keras.layers.Conv2D(32, (3, 3), activation='relu'),\n",
    "    tf.keras.layers.MaxPooling2D(2, 2),\n",
    "    tf.keras.layers.Dropout(0.25),\n",
    "    tf.keras.layers.Conv2D(64, (3, 3), activation='relu'),\n",
    "    tf.keras.layers.Conv2D(64, (3, 3), activation='relu'),\n",
    "    tf.keras.layers.MaxPooling2D(2, 2),\n",
    "    tf.keras.layers.Dropout(0.25),\n",
    "    tf.keras.layers.Flatten(),\n",
    "    tf.keras.layers.Dense(256, activation='relu'),\n",
    "    tf.keras.layers.Dropout(0.5),\n",
    "    tf.keras.layers.Dense(10, activation='softmax')\n",
    "])"
   ]
  },
  {
   "cell_type": "code",
   "execution_count": 9,
   "id": "cf893aa3",
   "metadata": {
    "execution": {
     "iopub.execute_input": "2024-03-27T19:21:13.468616Z",
     "iopub.status.busy": "2024-03-27T19:21:13.467956Z",
     "iopub.status.idle": "2024-03-27T19:21:13.474076Z",
     "shell.execute_reply": "2024-03-27T19:21:13.472885Z"
    },
    "papermill": {
     "duration": 0.01586,
     "end_time": "2024-03-27T19:21:13.476735",
     "exception": false,
     "start_time": "2024-03-27T19:21:13.460875",
     "status": "completed"
    },
    "tags": []
   },
   "outputs": [],
   "source": [
    "def lr_schedule(epoch):\n",
    "    lr = 1e-3\n",
    "    if epoch > 30:\n",
    "        lr *= 0.5\n",
    "    elif epoch > 20:\n",
    "        lr *= 0.75\n",
    "    return lr"
   ]
  },
  {
   "cell_type": "code",
   "execution_count": 10,
   "id": "1a5df3ad",
   "metadata": {
    "execution": {
     "iopub.execute_input": "2024-03-27T19:21:13.490237Z",
     "iopub.status.busy": "2024-03-27T19:21:13.489828Z",
     "iopub.status.idle": "2024-03-27T19:21:13.504950Z",
     "shell.execute_reply": "2024-03-27T19:21:13.503587Z"
    },
    "papermill": {
     "duration": 0.025473,
     "end_time": "2024-03-27T19:21:13.507890",
     "exception": false,
     "start_time": "2024-03-27T19:21:13.482417",
     "status": "completed"
    },
    "tags": []
   },
   "outputs": [],
   "source": [
    "model.compile(optimizer='adam', loss='sparse_categorical_crossentropy', metrics=['accuracy'])"
   ]
  },
  {
   "cell_type": "code",
   "execution_count": 11,
   "id": "775bffb6",
   "metadata": {
    "execution": {
     "iopub.execute_input": "2024-03-27T19:21:13.521954Z",
     "iopub.status.busy": "2024-03-27T19:21:13.521260Z",
     "iopub.status.idle": "2024-03-27T19:21:13.531122Z",
     "shell.execute_reply": "2024-03-27T19:21:13.530071Z"
    },
    "papermill": {
     "duration": 0.020127,
     "end_time": "2024-03-27T19:21:13.533876",
     "exception": false,
     "start_time": "2024-03-27T19:21:13.513749",
     "status": "completed"
    },
    "tags": []
   },
   "outputs": [],
   "source": [
    "model.compile(optimizer='adam', loss='sparse_categorical_crossentropy', metrics=['accuracy'])"
   ]
  },
  {
   "cell_type": "code",
   "execution_count": 12,
   "id": "dd391dbb",
   "metadata": {
    "execution": {
     "iopub.execute_input": "2024-03-27T19:21:13.547240Z",
     "iopub.status.busy": "2024-03-27T19:21:13.546838Z",
     "iopub.status.idle": "2024-03-27T19:21:13.552093Z",
     "shell.execute_reply": "2024-03-27T19:21:13.550635Z"
    },
    "papermill": {
     "duration": 0.015356,
     "end_time": "2024-03-27T19:21:13.554951",
     "exception": false,
     "start_time": "2024-03-27T19:21:13.539595",
     "status": "completed"
    },
    "tags": []
   },
   "outputs": [],
   "source": [
    "callbacks = [\n",
    "    LearningRateScheduler(lr_schedule)\n",
    "]"
   ]
  },
  {
   "cell_type": "code",
   "execution_count": 13,
   "id": "25422ed1",
   "metadata": {
    "execution": {
     "iopub.execute_input": "2024-03-27T19:21:13.568360Z",
     "iopub.status.busy": "2024-03-27T19:21:13.567983Z",
     "iopub.status.idle": "2024-03-27T20:06:14.520695Z",
     "shell.execute_reply": "2024-03-27T20:06:14.519661Z"
    },
    "papermill": {
     "duration": 2700.962763,
     "end_time": "2024-03-27T20:06:14.523508",
     "exception": false,
     "start_time": "2024-03-27T19:21:13.560745",
     "status": "completed"
    },
    "tags": []
   },
   "outputs": [
    {
     "name": "stdout",
     "output_type": "stream",
     "text": [
      "Epoch 1/40\n"
     ]
    },
    {
     "name": "stderr",
     "output_type": "stream",
     "text": [
      "/opt/conda/lib/python3.10/site-packages/keras/src/trainers/data_adapters/py_dataset_adapter.py:122: UserWarning: Your `PyDataset` class should call `super().__init__(**kwargs)` in its constructor. `**kwargs` can include `workers`, `use_multiprocessing`, `max_queue_size`. Do not pass these arguments to `fit()`, as they will be ignored.\n",
      "  self._warn_if_super_not_called()\n"
     ]
    },
    {
     "name": "stdout",
     "output_type": "stream",
     "text": [
      "\u001b[1m591/591\u001b[0m \u001b[32m━━━━━━━━━━━━━━━━━━━━\u001b[0m\u001b[37m\u001b[0m \u001b[1m52s\u001b[0m 84ms/step - accuracy: 0.6883 - loss: 0.9218 - val_accuracy: 0.9836 - val_loss: 0.0584 - learning_rate: 0.0010\n",
      "Epoch 2/40\n",
      "\u001b[1m591/591\u001b[0m \u001b[32m━━━━━━━━━━━━━━━━━━━━\u001b[0m\u001b[37m\u001b[0m \u001b[1m50s\u001b[0m 84ms/step - accuracy: 0.9474 - loss: 0.1755 - val_accuracy: 0.9879 - val_loss: 0.0409 - learning_rate: 0.0010\n",
      "Epoch 3/40\n",
      "\u001b[1m591/591\u001b[0m \u001b[32m━━━━━━━━━━━━━━━━━━━━\u001b[0m\u001b[37m\u001b[0m \u001b[1m51s\u001b[0m 85ms/step - accuracy: 0.9638 - loss: 0.1197 - val_accuracy: 0.9864 - val_loss: 0.0389 - learning_rate: 0.0010\n",
      "Epoch 4/40\n",
      "\u001b[1m591/591\u001b[0m \u001b[32m━━━━━━━━━━━━━━━━━━━━\u001b[0m\u001b[37m\u001b[0m \u001b[1m81s\u001b[0m 84ms/step - accuracy: 0.9678 - loss: 0.1065 - val_accuracy: 0.9919 - val_loss: 0.0245 - learning_rate: 0.0010\n",
      "Epoch 5/40\n",
      "\u001b[1m591/591\u001b[0m \u001b[32m━━━━━━━━━━━━━━━━━━━━\u001b[0m\u001b[37m\u001b[0m \u001b[1m82s\u001b[0m 83ms/step - accuracy: 0.9746 - loss: 0.0844 - val_accuracy: 0.9914 - val_loss: 0.0295 - learning_rate: 0.0010\n",
      "Epoch 6/40\n",
      "\u001b[1m591/591\u001b[0m \u001b[32m━━━━━━━━━━━━━━━━━━━━\u001b[0m\u001b[37m\u001b[0m \u001b[1m82s\u001b[0m 84ms/step - accuracy: 0.9768 - loss: 0.0792 - val_accuracy: 0.9924 - val_loss: 0.0321 - learning_rate: 0.0010\n",
      "Epoch 7/40\n",
      "\u001b[1m591/591\u001b[0m \u001b[32m━━━━━━━━━━━━━━━━━━━━\u001b[0m\u001b[37m\u001b[0m \u001b[1m81s\u001b[0m 82ms/step - accuracy: 0.9790 - loss: 0.0671 - val_accuracy: 0.9914 - val_loss: 0.0282 - learning_rate: 0.0010\n",
      "Epoch 8/40\n",
      "\u001b[1m591/591\u001b[0m \u001b[32m━━━━━━━━━━━━━━━━━━━━\u001b[0m\u001b[37m\u001b[0m \u001b[1m50s\u001b[0m 84ms/step - accuracy: 0.9799 - loss: 0.0675 - val_accuracy: 0.9926 - val_loss: 0.0196 - learning_rate: 0.0010\n",
      "Epoch 9/40\n",
      "\u001b[1m591/591\u001b[0m \u001b[32m━━━━━━━━━━━━━━━━━━━━\u001b[0m\u001b[37m\u001b[0m \u001b[1m51s\u001b[0m 86ms/step - accuracy: 0.9800 - loss: 0.0664 - val_accuracy: 0.9914 - val_loss: 0.0227 - learning_rate: 0.0010\n",
      "Epoch 10/40\n",
      "\u001b[1m591/591\u001b[0m \u001b[32m━━━━━━━━━━━━━━━━━━━━\u001b[0m\u001b[37m\u001b[0m \u001b[1m80s\u001b[0m 84ms/step - accuracy: 0.9839 - loss: 0.0563 - val_accuracy: 0.9912 - val_loss: 0.0254 - learning_rate: 0.0010\n",
      "Epoch 11/40\n",
      "\u001b[1m591/591\u001b[0m \u001b[32m━━━━━━━━━━━━━━━━━━━━\u001b[0m\u001b[37m\u001b[0m \u001b[1m50s\u001b[0m 84ms/step - accuracy: 0.9835 - loss: 0.0542 - val_accuracy: 0.9929 - val_loss: 0.0207 - learning_rate: 0.0010\n",
      "Epoch 12/40\n",
      "\u001b[1m591/591\u001b[0m \u001b[32m━━━━━━━━━━━━━━━━━━━━\u001b[0m\u001b[37m\u001b[0m \u001b[1m82s\u001b[0m 83ms/step - accuracy: 0.9837 - loss: 0.0510 - val_accuracy: 0.9917 - val_loss: 0.0224 - learning_rate: 0.0010\n",
      "Epoch 13/40\n",
      "\u001b[1m591/591\u001b[0m \u001b[32m━━━━━━━━━━━━━━━━━━━━\u001b[0m\u001b[37m\u001b[0m \u001b[1m83s\u001b[0m 85ms/step - accuracy: 0.9860 - loss: 0.0461 - val_accuracy: 0.9924 - val_loss: 0.0250 - learning_rate: 0.0010\n",
      "Epoch 14/40\n",
      "\u001b[1m591/591\u001b[0m \u001b[32m━━━━━━━━━━━━━━━━━━━━\u001b[0m\u001b[37m\u001b[0m \u001b[1m81s\u001b[0m 84ms/step - accuracy: 0.9857 - loss: 0.0494 - val_accuracy: 0.9926 - val_loss: 0.0268 - learning_rate: 0.0010\n",
      "Epoch 15/40\n",
      "\u001b[1m591/591\u001b[0m \u001b[32m━━━━━━━━━━━━━━━━━━━━\u001b[0m\u001b[37m\u001b[0m \u001b[1m82s\u001b[0m 84ms/step - accuracy: 0.9868 - loss: 0.0440 - val_accuracy: 0.9931 - val_loss: 0.0203 - learning_rate: 0.0010\n",
      "Epoch 16/40\n",
      "\u001b[1m591/591\u001b[0m \u001b[32m━━━━━━━━━━━━━━━━━━━━\u001b[0m\u001b[37m\u001b[0m \u001b[1m49s\u001b[0m 83ms/step - accuracy: 0.9870 - loss: 0.0430 - val_accuracy: 0.9931 - val_loss: 0.0194 - learning_rate: 0.0010\n",
      "Epoch 17/40\n",
      "\u001b[1m591/591\u001b[0m \u001b[32m━━━━━━━━━━━━━━━━━━━━\u001b[0m\u001b[37m\u001b[0m \u001b[1m83s\u001b[0m 85ms/step - accuracy: 0.9872 - loss: 0.0393 - val_accuracy: 0.9914 - val_loss: 0.0220 - learning_rate: 0.0010\n",
      "Epoch 18/40\n",
      "\u001b[1m591/591\u001b[0m \u001b[32m━━━━━━━━━━━━━━━━━━━━\u001b[0m\u001b[37m\u001b[0m \u001b[1m50s\u001b[0m 84ms/step - accuracy: 0.9858 - loss: 0.0477 - val_accuracy: 0.9938 - val_loss: 0.0213 - learning_rate: 0.0010\n",
      "Epoch 19/40\n",
      "\u001b[1m591/591\u001b[0m \u001b[32m━━━━━━━━━━━━━━━━━━━━\u001b[0m\u001b[37m\u001b[0m \u001b[1m81s\u001b[0m 83ms/step - accuracy: 0.9860 - loss: 0.0459 - val_accuracy: 0.9952 - val_loss: 0.0162 - learning_rate: 0.0010\n",
      "Epoch 20/40\n",
      "\u001b[1m591/591\u001b[0m \u001b[32m━━━━━━━━━━━━━━━━━━━━\u001b[0m\u001b[37m\u001b[0m \u001b[1m50s\u001b[0m 84ms/step - accuracy: 0.9887 - loss: 0.0377 - val_accuracy: 0.9931 - val_loss: 0.0237 - learning_rate: 0.0010\n",
      "Epoch 21/40\n",
      "\u001b[1m591/591\u001b[0m \u001b[32m━━━━━━━━━━━━━━━━━━━━\u001b[0m\u001b[37m\u001b[0m \u001b[1m50s\u001b[0m 84ms/step - accuracy: 0.9876 - loss: 0.0409 - val_accuracy: 0.9921 - val_loss: 0.0264 - learning_rate: 0.0010\n",
      "Epoch 22/40\n",
      "\u001b[1m591/591\u001b[0m \u001b[32m━━━━━━━━━━━━━━━━━━━━\u001b[0m\u001b[37m\u001b[0m \u001b[1m83s\u001b[0m 85ms/step - accuracy: 0.9890 - loss: 0.0375 - val_accuracy: 0.9929 - val_loss: 0.0197 - learning_rate: 7.5000e-04\n",
      "Epoch 23/40\n",
      "\u001b[1m591/591\u001b[0m \u001b[32m━━━━━━━━━━━━━━━━━━━━\u001b[0m\u001b[37m\u001b[0m \u001b[1m81s\u001b[0m 84ms/step - accuracy: 0.9911 - loss: 0.0278 - val_accuracy: 0.9917 - val_loss: 0.0267 - learning_rate: 7.5000e-04\n",
      "Epoch 24/40\n",
      "\u001b[1m591/591\u001b[0m \u001b[32m━━━━━━━━━━━━━━━━━━━━\u001b[0m\u001b[37m\u001b[0m \u001b[1m82s\u001b[0m 84ms/step - accuracy: 0.9914 - loss: 0.0307 - val_accuracy: 0.9929 - val_loss: 0.0220 - learning_rate: 7.5000e-04\n",
      "Epoch 25/40\n",
      "\u001b[1m591/591\u001b[0m \u001b[32m━━━━━━━━━━━━━━━━━━━━\u001b[0m\u001b[37m\u001b[0m \u001b[1m49s\u001b[0m 83ms/step - accuracy: 0.9904 - loss: 0.0327 - val_accuracy: 0.9933 - val_loss: 0.0211 - learning_rate: 7.5000e-04\n",
      "Epoch 26/40\n",
      "\u001b[1m591/591\u001b[0m \u001b[32m━━━━━━━━━━━━━━━━━━━━\u001b[0m\u001b[37m\u001b[0m \u001b[1m50s\u001b[0m 85ms/step - accuracy: 0.9908 - loss: 0.0330 - val_accuracy: 0.9910 - val_loss: 0.0259 - learning_rate: 7.5000e-04\n",
      "Epoch 27/40\n",
      "\u001b[1m591/591\u001b[0m \u001b[32m━━━━━━━━━━━━━━━━━━━━\u001b[0m\u001b[37m\u001b[0m \u001b[1m81s\u001b[0m 84ms/step - accuracy: 0.9913 - loss: 0.0289 - val_accuracy: 0.9936 - val_loss: 0.0222 - learning_rate: 7.5000e-04\n",
      "Epoch 28/40\n",
      "\u001b[1m591/591\u001b[0m \u001b[32m━━━━━━━━━━━━━━━━━━━━\u001b[0m\u001b[37m\u001b[0m \u001b[1m50s\u001b[0m 84ms/step - accuracy: 0.9908 - loss: 0.0314 - val_accuracy: 0.9931 - val_loss: 0.0232 - learning_rate: 7.5000e-04\n",
      "Epoch 29/40\n",
      "\u001b[1m591/591\u001b[0m \u001b[32m━━━━━━━━━━━━━━━━━━━━\u001b[0m\u001b[37m\u001b[0m \u001b[1m82s\u001b[0m 84ms/step - accuracy: 0.9919 - loss: 0.0287 - val_accuracy: 0.9933 - val_loss: 0.0216 - learning_rate: 7.5000e-04\n",
      "Epoch 30/40\n",
      "\u001b[1m591/591\u001b[0m \u001b[32m━━━━━━━━━━━━━━━━━━━━\u001b[0m\u001b[37m\u001b[0m \u001b[1m49s\u001b[0m 83ms/step - accuracy: 0.9907 - loss: 0.0311 - val_accuracy: 0.9940 - val_loss: 0.0173 - learning_rate: 7.5000e-04\n",
      "Epoch 31/40\n",
      "\u001b[1m591/591\u001b[0m \u001b[32m━━━━━━━━━━━━━━━━━━━━\u001b[0m\u001b[37m\u001b[0m \u001b[1m50s\u001b[0m 85ms/step - accuracy: 0.9916 - loss: 0.0298 - val_accuracy: 0.9938 - val_loss: 0.0162 - learning_rate: 7.5000e-04\n",
      "Epoch 32/40\n",
      "\u001b[1m591/591\u001b[0m \u001b[32m━━━━━━━━━━━━━━━━━━━━\u001b[0m\u001b[37m\u001b[0m \u001b[1m49s\u001b[0m 83ms/step - accuracy: 0.9924 - loss: 0.0264 - val_accuracy: 0.9929 - val_loss: 0.0180 - learning_rate: 5.0000e-04\n",
      "Epoch 33/40\n",
      "\u001b[1m591/591\u001b[0m \u001b[32m━━━━━━━━━━━━━━━━━━━━\u001b[0m\u001b[37m\u001b[0m \u001b[1m50s\u001b[0m 85ms/step - accuracy: 0.9930 - loss: 0.0236 - val_accuracy: 0.9940 - val_loss: 0.0173 - learning_rate: 5.0000e-04\n",
      "Epoch 34/40\n",
      "\u001b[1m591/591\u001b[0m \u001b[32m━━━━━━━━━━━━━━━━━━━━\u001b[0m\u001b[37m\u001b[0m \u001b[1m82s\u001b[0m 85ms/step - accuracy: 0.9933 - loss: 0.0228 - val_accuracy: 0.9945 - val_loss: 0.0185 - learning_rate: 5.0000e-04\n",
      "Epoch 35/40\n",
      "\u001b[1m591/591\u001b[0m \u001b[32m━━━━━━━━━━━━━━━━━━━━\u001b[0m\u001b[37m\u001b[0m \u001b[1m50s\u001b[0m 84ms/step - accuracy: 0.9925 - loss: 0.0223 - val_accuracy: 0.9952 - val_loss: 0.0154 - learning_rate: 5.0000e-04\n",
      "Epoch 36/40\n",
      "\u001b[1m591/591\u001b[0m \u001b[32m━━━━━━━━━━━━━━━━━━━━\u001b[0m\u001b[37m\u001b[0m \u001b[1m83s\u001b[0m 86ms/step - accuracy: 0.9941 - loss: 0.0185 - val_accuracy: 0.9955 - val_loss: 0.0156 - learning_rate: 5.0000e-04\n",
      "Epoch 37/40\n",
      "\u001b[1m591/591\u001b[0m \u001b[32m━━━━━━━━━━━━━━━━━━━━\u001b[0m\u001b[37m\u001b[0m \u001b[1m83s\u001b[0m 87ms/step - accuracy: 0.9939 - loss: 0.0199 - val_accuracy: 0.9945 - val_loss: 0.0188 - learning_rate: 5.0000e-04\n",
      "Epoch 38/40\n",
      "\u001b[1m591/591\u001b[0m \u001b[32m━━━━━━━━━━━━━━━━━━━━\u001b[0m\u001b[37m\u001b[0m \u001b[1m82s\u001b[0m 87ms/step - accuracy: 0.9939 - loss: 0.0196 - val_accuracy: 0.9938 - val_loss: 0.0189 - learning_rate: 5.0000e-04\n",
      "Epoch 39/40\n",
      "\u001b[1m591/591\u001b[0m \u001b[32m━━━━━━━━━━━━━━━━━━━━\u001b[0m\u001b[37m\u001b[0m \u001b[1m81s\u001b[0m 86ms/step - accuracy: 0.9932 - loss: 0.0221 - val_accuracy: 0.9950 - val_loss: 0.0149 - learning_rate: 5.0000e-04\n",
      "Epoch 40/40\n",
      "\u001b[1m591/591\u001b[0m \u001b[32m━━━━━━━━━━━━━━━━━━━━\u001b[0m\u001b[37m\u001b[0m \u001b[1m83s\u001b[0m 88ms/step - accuracy: 0.9937 - loss: 0.0188 - val_accuracy: 0.9938 - val_loss: 0.0190 - learning_rate: 5.0000e-04\n"
     ]
    }
   ],
   "source": [
    "history = model.fit(datagen.flow(X_train, y_train, batch_size=64), epochs=40, validation_data=(X_val, y_val), callbacks=callbacks)"
   ]
  }
 ],
 "metadata": {
  "kaggle": {
   "accelerator": "none",
   "dataSources": [
    {
     "databundleVersionId": 861823,
     "sourceId": 3004,
     "sourceType": "competition"
    }
   ],
   "dockerImageVersionId": 30673,
   "isGpuEnabled": false,
   "isInternetEnabled": false,
   "language": "python",
   "sourceType": "notebook"
  },
  "kernelspec": {
   "display_name": "Python 3",
   "language": "python",
   "name": "python3"
  },
  "language_info": {
   "codemirror_mode": {
    "name": "ipython",
    "version": 3
   },
   "file_extension": ".py",
   "mimetype": "text/x-python",
   "name": "python",
   "nbconvert_exporter": "python",
   "pygments_lexer": "ipython3",
   "version": "3.10.13"
  },
  "papermill": {
   "default_parameters": {},
   "duration": 2735.591024,
   "end_time": "2024-03-27T20:06:18.713015",
   "environment_variables": {},
   "exception": null,
   "input_path": "__notebook__.ipynb",
   "output_path": "__notebook__.ipynb",
   "parameters": {},
   "start_time": "2024-03-27T19:20:43.121991",
   "version": "2.5.0"
  }
 },
 "nbformat": 4,
 "nbformat_minor": 5
}
